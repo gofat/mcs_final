{
 "cells": [
  {
   "cell_type": "code",
   "execution_count": 1,
   "metadata": {},
   "outputs": [],
   "source": [
    "import re\n",
    "import os\n",
    "import json\n",
    "import nltk\n",
    "import scipy\n",
    "import numpy as np\n",
    "import pandas as pd\n",
    "\n",
    "from nltk.tag import pos_tag\n",
    "from nltk.stem.snowball import SnowballStemmer\n",
    "from sklearn.cluster import KMeans\n",
    "from sklearn.feature_extraction.text import TfidfVectorizer\n",
    "from sklearn.metrics.pairwise import cosine_similarity\n",
    "\n",
    "from gensim.models import KeyedVectors\n",
    "from itertools import chain\n",
    "from tqdm import tqdm"
   ]
  },
  {
   "cell_type": "code",
   "execution_count": 2,
   "metadata": {
    "collapsed": true
   },
   "outputs": [],
   "source": [
    "import seaborn as sns\n",
    "import matplotlib.pyplot as plt\n",
    "%matplotlib inline"
   ]
  },
  {
   "cell_type": "code",
   "execution_count": 3,
   "metadata": {},
   "outputs": [
    {
     "name": "stderr",
     "output_type": "stream",
     "text": [
      "/home/ubuntu/miniconda3/envs/p35/lib/python3.5/site-packages/IPython/core/interactiveshell.py:2698: DtypeWarning: Columns (1) have mixed types. Specify dtype option on import or set low_memory=False.\n",
      "  interactivity=interactivity, compiler=compiler, result=result)\n"
     ]
    }
   ],
   "source": [
    "diag = pd.read_csv('diag.csv', sep=';')\n",
    "faq = pd.read_csv('faq.csv', sep=';')"
   ]
  },
  {
   "cell_type": "code",
   "execution_count": 4,
   "metadata": {},
   "outputs": [],
   "source": [
    "diag = diag.fillna('')\n",
    "faq = faq.fillna('')"
   ]
  },
  {
   "cell_type": "code",
   "execution_count": 5,
   "metadata": {
    "collapsed": true
   },
   "outputs": [],
   "source": [
    "tfidf = TfidfVectorizer(min_df = 2, max_df = 0.9)"
   ]
  },
  {
   "cell_type": "code",
   "execution_count": 6,
   "metadata": {},
   "outputs": [
    {
     "data": {
      "text/plain": [
       "TfidfVectorizer(analyzer='word', binary=False, decode_error='strict',\n",
       "        dtype=<class 'numpy.int64'>, encoding='utf-8', input='content',\n",
       "        lowercase=True, max_df=0.9, max_features=None, min_df=2,\n",
       "        ngram_range=(1, 1), norm='l2', preprocessor=None, smooth_idf=True,\n",
       "        stop_words=None, strip_accents=None, sublinear_tf=False,\n",
       "        token_pattern='(?u)\\\\b\\\\w\\\\w+\\\\b', tokenizer=None, use_idf=True,\n",
       "        vocabulary=None)"
      ]
     },
     "execution_count": 6,
     "metadata": {},
     "output_type": "execute_result"
    }
   ],
   "source": [
    "tfidf.fit(list(diag.token_question) + list(diag.token_answer) + list(faq.question) + list(faq.answer))"
   ]
  },
  {
   "cell_type": "code",
   "execution_count": 9,
   "metadata": {},
   "outputs": [
    {
     "data": {
      "text/plain": [
       "0    здравствовать только полностью закрывать вклад\n",
       "1                                                  \n",
       "Name: token_answer, dtype: object"
      ]
     },
     "execution_count": 9,
     "metadata": {},
     "output_type": "execute_result"
    }
   ],
   "source": [
    "diag[diag.question.str.find('?')!=-1].token_answer[:2]"
   ]
  },
  {
   "cell_type": "code",
   "execution_count": 10,
   "metadata": {},
   "outputs": [],
   "source": [
    "# dists = cosine_similarity(tfidf.transform(diag.token_answer), tfidf.transform(faq.answer))"
   ]
  },
  {
   "cell_type": "code",
   "execution_count": 11,
   "metadata": {},
   "outputs": [],
   "source": [
    "def text_dist(text, text_list):\n",
    "    sim = cosine_similarity(tfidf.transform(text), tfidf.transform(text_list))[0]\n",
    "    return [text[0], text_list[sim==max(sim)].values[0], max(sim)]"
   ]
  },
  {
   "cell_type": "code",
   "execution_count": 16,
   "metadata": {},
   "outputs": [
    {
     "name": "stderr",
     "output_type": "stream",
     "text": [
      "100%|██████████| 57489/57489 [07:15<00:00, 132.10it/s]\n"
     ]
    }
   ],
   "source": [
    "sims = []\n",
    "x = diag[diag.question.str.find('?')!=-1].token_answer.values\n",
    "for i in tqdm(range(len(x))):\n",
    "    sims.append(text_dist([x[i]], faq.answer))"
   ]
  },
  {
   "cell_type": "code",
   "execution_count": 28,
   "metadata": {},
   "outputs": [],
   "source": [
    "sim_data = pd.DataFrame(sims, columns = ['token_answer', 'answer', 'distance'])"
   ]
  },
  {
   "cell_type": "code",
   "execution_count": 39,
   "metadata": {},
   "outputs": [],
   "source": [
    "# sim_data[(sim_data.distance < 0.1)&(sim_data.distance > 0.05)]\n",
    "sim_data[(sim_data.distance > 0.7)&(~sim_data.answer.isin(['да конечно', 'да быть', 'да']))].merge(\n",
    "    diag[diag.question.str.find('?')!=-1][['question','token_answer']], on='token_answer').merge(faq, on='answer').drop_duplicates(\n",
    "subset = ['answer', 'distance', 'question_x']).to_csv('add_questions.csv',index=False)\n",
    "    "
   ]
  },
  {
   "cell_type": "code",
   "execution_count": 48,
   "metadata": {
    "scrolled": true
   },
   "outputs": [
    {
     "name": "stderr",
     "output_type": "stream",
     "text": [
      "100%|██████████| 57489/57489 [07:16<00:00, 131.57it/s]\n"
     ]
    }
   ],
   "source": [
    "sims = []\n",
    "x = diag[diag.question.str.find('?')!=-1].token_question.values\n",
    "for i in tqdm(range(len(x))):\n",
    "    sims.append(text_dist([x[i]], faq.answer))"
   ]
  },
  {
   "cell_type": "code",
   "execution_count": 49,
   "metadata": {
    "collapsed": true
   },
   "outputs": [],
   "source": [
    "sim_data = pd.DataFrame(sims, columns = ['token_question', 'answer', 'distance'])"
   ]
  },
  {
   "cell_type": "code",
   "execution_count": 52,
   "metadata": {},
   "outputs": [
    {
     "data": {
      "text/html": [
       "<div>\n",
       "<style>\n",
       "    .dataframe thead tr:only-child th {\n",
       "        text-align: right;\n",
       "    }\n",
       "\n",
       "    .dataframe thead th {\n",
       "        text-align: left;\n",
       "    }\n",
       "\n",
       "    .dataframe tbody tr th {\n",
       "        vertical-align: top;\n",
       "    }\n",
       "</style>\n",
       "<table border=\"1\" class=\"dataframe\">\n",
       "  <thead>\n",
       "    <tr style=\"text-align: right;\">\n",
       "      <th></th>\n",
       "      <th>token_question</th>\n",
       "      <th>answer</th>\n",
       "      <th>distance</th>\n",
       "    </tr>\n",
       "  </thead>\n",
       "  <tbody>\n",
       "    <tr>\n",
       "      <th>5646</th>\n",
       "      <td>да</td>\n",
       "      <td>да быть</td>\n",
       "      <td>0.810542</td>\n",
       "    </tr>\n",
       "    <tr>\n",
       "      <th>6040</th>\n",
       "      <td>да быть</td>\n",
       "      <td>да быть</td>\n",
       "      <td>1.000000</td>\n",
       "    </tr>\n",
       "    <tr>\n",
       "      <th>10729</th>\n",
       "      <td>да</td>\n",
       "      <td>да быть</td>\n",
       "      <td>0.810542</td>\n",
       "    </tr>\n",
       "    <tr>\n",
       "      <th>12062</th>\n",
       "      <td>да</td>\n",
       "      <td>да быть</td>\n",
       "      <td>0.810542</td>\n",
       "    </tr>\n",
       "    <tr>\n",
       "      <th>12063</th>\n",
       "      <td>что да да быть комиссия</td>\n",
       "      <td>да быть</td>\n",
       "      <td>0.777776</td>\n",
       "    </tr>\n",
       "    <tr>\n",
       "      <th>17505</th>\n",
       "      <td>да</td>\n",
       "      <td>да быть</td>\n",
       "      <td>0.810542</td>\n",
       "    </tr>\n",
       "    <tr>\n",
       "      <th>21016</th>\n",
       "      <td>да</td>\n",
       "      <td>да быть</td>\n",
       "      <td>0.810542</td>\n",
       "    </tr>\n",
       "    <tr>\n",
       "      <th>26017</th>\n",
       "      <td>да</td>\n",
       "      <td>да быть</td>\n",
       "      <td>0.810542</td>\n",
       "    </tr>\n",
       "    <tr>\n",
       "      <th>29549</th>\n",
       "      <td>да</td>\n",
       "      <td>да быть</td>\n",
       "      <td>0.810542</td>\n",
       "    </tr>\n",
       "    <tr>\n",
       "      <th>35906</th>\n",
       "      <td>да</td>\n",
       "      <td>да быть</td>\n",
       "      <td>0.810542</td>\n",
       "    </tr>\n",
       "    <tr>\n",
       "      <th>43745</th>\n",
       "      <td>да</td>\n",
       "      <td>да быть</td>\n",
       "      <td>0.810542</td>\n",
       "    </tr>\n",
       "    <tr>\n",
       "      <th>44586</th>\n",
       "      <td>да</td>\n",
       "      <td>да быть</td>\n",
       "      <td>0.810542</td>\n",
       "    </tr>\n",
       "    <tr>\n",
       "      <th>49385</th>\n",
       "      <td>а да</td>\n",
       "      <td>да быть</td>\n",
       "      <td>0.810542</td>\n",
       "    </tr>\n",
       "    <tr>\n",
       "      <th>53362</th>\n",
       "      <td>да да</td>\n",
       "      <td>да быть</td>\n",
       "      <td>0.810542</td>\n",
       "    </tr>\n",
       "    <tr>\n",
       "      <th>55245</th>\n",
       "      <td>да аллоу</td>\n",
       "      <td>да быть</td>\n",
       "      <td>0.810542</td>\n",
       "    </tr>\n",
       "    <tr>\n",
       "      <th>57290</th>\n",
       "      <td>в да</td>\n",
       "      <td>да быть</td>\n",
       "      <td>0.810542</td>\n",
       "    </tr>\n",
       "  </tbody>\n",
       "</table>\n",
       "</div>"
      ],
      "text/plain": [
       "                token_question   answer  distance\n",
       "5646                        да  да быть  0.810542\n",
       "6040                   да быть  да быть  1.000000\n",
       "10729                       да  да быть  0.810542\n",
       "12062                       да  да быть  0.810542\n",
       "12063  что да да быть комиссия  да быть  0.777776\n",
       "17505                       да  да быть  0.810542\n",
       "21016                       да  да быть  0.810542\n",
       "26017                       да  да быть  0.810542\n",
       "29549                       да  да быть  0.810542\n",
       "35906                       да  да быть  0.810542\n",
       "43745                       да  да быть  0.810542\n",
       "44586                       да  да быть  0.810542\n",
       "49385                     а да  да быть  0.810542\n",
       "53362                    да да  да быть  0.810542\n",
       "55245                 да аллоу  да быть  0.810542\n",
       "57290                     в да  да быть  0.810542"
      ]
     },
     "execution_count": 52,
     "metadata": {},
     "output_type": "execute_result"
    }
   ],
   "source": [
    "sim_data[(sim_data.distance > 0.75)]"
   ]
  },
  {
   "cell_type": "code",
   "execution_count": 50,
   "metadata": {},
   "outputs": [
    {
     "data": {
      "text/html": [
       "<div>\n",
       "<style>\n",
       "    .dataframe thead tr:only-child th {\n",
       "        text-align: right;\n",
       "    }\n",
       "\n",
       "    .dataframe thead th {\n",
       "        text-align: left;\n",
       "    }\n",
       "\n",
       "    .dataframe tbody tr th {\n",
       "        vertical-align: top;\n",
       "    }\n",
       "</style>\n",
       "<table border=\"1\" class=\"dataframe\">\n",
       "  <thead>\n",
       "    <tr style=\"text-align: right;\">\n",
       "      <th></th>\n",
       "      <th>token_question</th>\n",
       "      <th>answer_x</th>\n",
       "      <th>distance</th>\n",
       "      <th>question</th>\n",
       "      <th>answer_y</th>\n",
       "    </tr>\n",
       "  </thead>\n",
       "  <tbody>\n",
       "  </tbody>\n",
       "</table>\n",
       "</div>"
      ],
      "text/plain": [
       "Empty DataFrame\n",
       "Columns: [token_question, answer_x, distance, question, answer_y]\n",
       "Index: []"
      ]
     },
     "execution_count": 50,
     "metadata": {},
     "output_type": "execute_result"
    }
   ],
   "source": [
    "sim_data[(sim_data.distance > 0.75)].merge(\n",
    "diag[diag.question.str.find('?')!=-1][['question','token_question']], on='token_question').merge(faq, on='question')"
   ]
  },
  {
   "cell_type": "code",
   "execution_count": 51,
   "metadata": {},
   "outputs": [],
   "source": [
    "# sim_data[(sim_data.distance > 0.7)].merge(\n",
    "#     diag[diag.question.str.find('?')!=-1][['question','token_question']], on='token_question').merge(faq, on='question').drop_duplicates(\n",
    "# subset = ['answer', 'distance', 'question_x']).to_csv('add_questions2.csv',index=False)\n",
    "    "
   ]
  },
  {
   "cell_type": "code",
   "execution_count": null,
   "metadata": {
    "collapsed": true
   },
   "outputs": [],
   "source": [
    "sims = []\n",
    "x = diag[diag.question.str.find('?')!=-1].token_answer.values\n",
    "for i in tqdm(range(len(x))):\n",
    "    sims.append(text_dist([x[i]], faq.answer))"
   ]
  },
  {
   "cell_type": "code",
   "execution_count": null,
   "metadata": {
    "collapsed": true
   },
   "outputs": [],
   "source": []
  }
 ],
 "metadata": {
  "anaconda-cloud": {},
  "kernelspec": {
   "display_name": "Python 3",
   "language": "python",
   "name": "python3"
  },
  "language_info": {
   "codemirror_mode": {
    "name": "ipython",
    "version": 3
   },
   "file_extension": ".py",
   "mimetype": "text/x-python",
   "name": "python",
   "nbconvert_exporter": "python",
   "pygments_lexer": "ipython3",
   "version": "3.5.4"
  }
 },
 "nbformat": 4,
 "nbformat_minor": 2
}
